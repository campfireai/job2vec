{
 "cells": [
  {
   "cell_type": "code",
   "execution_count": 44,
   "metadata": {},
   "outputs": [],
   "source": [
    "from gensim.models import KeyedVectors\n",
    "import matplotlib.pyplot as plt\n",
    "import umap\n",
    "\n",
    "\n",
    "job2vec = KeyedVectors.load('job2vec.kv', mmap='r')"
   ]
  },
  {
   "cell_type": "markdown",
   "metadata": {},
   "source": [
    "## Compute several job similarities to *landscaping*"
   ]
  },
  {
   "cell_type": "code",
   "execution_count": 46,
   "metadata": {},
   "outputs": [
    {
     "data": {
      "text/plain": [
       "array([0.94036454, 0.7870552 , 0.56887895, 0.7285097 , 0.67997193],\n",
       "      dtype=float32)"
      ]
     },
     "execution_count": 46,
     "metadata": {},
     "output_type": "execute_result"
    }
   ],
   "source": [
    "job2vec.cosine_similarities(\n",
    "    job2vec['landscaping'],\n",
    "    [job2vec['landscaper'], job2vec['gardener'], job2vec['author'], job2vec['electrician'], job2vec['doctor']]\n",
    ")"
   ]
  },
  {
   "cell_type": "markdown",
   "metadata": {},
   "source": [
    "## Getting the Most Similar Jobs to a Target Job"
   ]
  },
  {
   "cell_type": "markdown",
   "metadata": {},
   "source": [
    "Let's ask Gensim to tell us which jobs are most similar to _professor_, _history teacher_, and _retired nurse_."
   ]
  },
  {
   "cell_type": "code",
   "execution_count": 47,
   "metadata": {},
   "outputs": [
    {
     "name": "stdout",
     "output_type": "stream",
     "text": [
      "\n",
      "Most similar jobs to \"professor\":\n",
      "\tprofessor of history and theology\n",
      "\tprofessor of biology\n",
      "\tprofessorconsultant\n",
      "\tprof emeritus\n",
      "\tphysicianprofessor\n",
      "\thistory prof\n",
      "\trolfer\n",
      "\tprof\n",
      "\tvice provost\n",
      "\tpt\n",
      "\n",
      "Most similar jobs to \"history teacher\":\n",
      "\thigh school teacher\n",
      "\tteachers\n",
      "\tteachet\n",
      "\telementary school teacher\n",
      "\tmontessori teacher\n",
      "\tspecial ed teacher\n",
      "\tpart time teacher\n",
      "\tparttime teacher\n",
      "\tspecial education teacher\n",
      "\thigh school english teacher\n",
      "\n",
      "Most similar jobs to \"retired nurse\":\n",
      "\tretired lawyer\n",
      "\tnot employed\n",
      "\tretired rn\n",
      "\tadvanced practice nurse\n",
      "\tnursing\n",
      "\tretirednot employed\n",
      "\tarchitects\n",
      "\trn care manager\n",
      "\tfamily nurse practitioner\n",
      "\tpublic health nurse\n"
     ]
    }
   ],
   "source": [
    "for start_job in ['professor', 'history teacher', 'retired nurse']:\n",
    "    print(f'\\nMost similar jobs to \"{start_job}\":')\n",
    "    for job, similarity_score in job2vec.most_similar(positive=[start_job]):\n",
    "        print(f'\\t{job}')"
   ]
  },
  {
   "cell_type": "markdown",
   "metadata": {},
   "source": [
    "## Solving a Job Analogy\n",
    "Let's ask Gensim: _teacher_ is to _history teacher_ as _professor_ is to **???**:"
   ]
  },
  {
   "cell_type": "code",
   "execution_count": 48,
   "metadata": {
    "scrolled": true
   },
   "outputs": [
    {
     "name": "stdout",
     "output_type": "stream",
     "text": [
      "professor of history and theology\n",
      "professor of biology\n",
      "vice provost\n",
      "history prof\n",
      "music professor\n",
      "professor of music\n",
      "herbalife distributor\n",
      "professor of english\n",
      "rigger\n",
      "physicianprofessor\n"
     ]
    }
   ],
   "source": [
    "for job, similarity_score in job2vec.most_similar(positive=['history teacher', 'professor'], negative=['teacher']):\n",
    "    print(job)"
   ]
  },
  {
   "cell_type": "markdown",
   "metadata": {},
   "source": [
    "## Produce a 2D plot of embeddings using UMAP"
   ]
  },
  {
   "cell_type": "code",
   "execution_count": 50,
   "metadata": {},
   "outputs": [
    {
     "data": {
      "image/png": "[encoded data removed]",
      "text/plain": [
       "<Figure size 720x720 with 1 Axes>"
      ]
     },
     "metadata": {},
     "output_type": "display_data"
    }
   ],
   "source": [
    "jobs = [\n",
    "    'construction worker', 'laborer', 'carpenter', 'woodworker',\n",
    "    'chef', 'pastry chef', 'caterer',\n",
    "    'doctor', 'medical', 'nutritionist',\n",
    "    'author', 'blogger', 'writer'\n",
    "]\n",
    "\n",
    "vectors = [\n",
    "    job2vec[o]\n",
    "    for o in jobs\n",
    "]\n",
    "umap_data = umap.UMAP(\n",
    "    n_neighbors=5,\n",
    "    min_dist=0.3,\n",
    "    n_components=2,\n",
    "    metric='cosine',\n",
    "    random_state=42\n",
    ").fit_transform(vectors)\n",
    "\n",
    "fig = plt.figure(figsize=(10,10))\n",
    "plt.scatter(\n",
    "    umap_data[:,0], umap_data[:,1],\n",
    "    c=4*['blue'] + 3*['orange'] + 3*['green'] + 3*['red']\n",
    ")\n",
    "\n",
    "for label, (x, y) in zip(jobs, umap_data):\n",
    "    plt.annotate(\n",
    "        label,\n",
    "        xy=(x-.1, y+.08),\n",
    "        xytext=(0, 0),\n",
    "        textcoords='offset points'\n",
    "    )\n",
    "\n",
    "plt.xticks([])\n",
    "plt.yticks([])\n",
    "plt.savefig('./job2vec_umap.png', dpi=300)"
   ]
  }
 ],
 "metadata": {
  "kernelspec": {
   "display_name": "Python 3",
   "language": "python",
   "name": "python3"
  },
  "language_info": {
   "codemirror_mode": {
    "name": "ipython",
    "version": 3
   },
   "file_extension": ".py",
   "mimetype": "text/x-python",
   "name": "python",
   "nbconvert_exporter": "python",
   "pygments_lexer": "ipython3",
   "version": "3.7.3"
  }
 },
 "nbformat": 4,
 "nbformat_minor": 4
}
